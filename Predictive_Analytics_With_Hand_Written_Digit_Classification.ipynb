{
  "nbformat": 4,
  "nbformat_minor": 0,
  "metadata": {
    "colab": {
      "name": "Predictive_Analytics_With_Hand_Written_Digit_Classification.ipynb",
      "provenance": []
    },
    "kernelspec": {
      "name": "python3",
      "display_name": "Python 3"
    },
    "language_info": {
      "name": "python"
    }
  },
  "cells": [
    {
      "cell_type": "markdown",
      "source": [
        "**Import Library**"
      ],
      "metadata": {
        "id": "wFWAeDJYq8ME"
      }
    },
    {
      "cell_type": "code",
      "execution_count": 1,
      "metadata": {
        "id": "LmLqmwF3qa9C"
      },
      "outputs": [],
      "source": [
        "import pandas as pd"
      ]
    },
    {
      "cell_type": "code",
      "source": [
        "import numpy as np"
      ],
      "metadata": {
        "id": "OyaW7rwzqzRo"
      },
      "execution_count": 2,
      "outputs": []
    },
    {
      "cell_type": "code",
      "source": [
        "import matplotlib.pyplot as plt"
      ],
      "metadata": {
        "id": "j4wl3NhAq2Ks"
      },
      "execution_count": 3,
      "outputs": []
    },
    {
      "cell_type": "markdown",
      "source": [
        "**Import Data**"
      ],
      "metadata": {
        "id": "ElIWxD08rJ-Y"
      }
    },
    {
      "cell_type": "code",
      "source": [
        "from sklearn.datasets import load_digits"
      ],
      "metadata": {
        "id": "qtlFMNB2rMd7"
      },
      "execution_count": 4,
      "outputs": []
    },
    {
      "cell_type": "code",
      "source": [
        "df = load_digits()"
      ],
      "metadata": {
        "id": "ES8bI-W_rXcr"
      },
      "execution_count": 5,
      "outputs": []
    },
    {
      "cell_type": "code",
      "source": [
        "_, axes = plt.subplots(nrows=1, ncols=4, figsize=(10,3))\n",
        "for ax, image, label in zip(axes, df.images, df.target):\n",
        "    ax.set_axis_off()\n",
        "    ax.imshow(image, cmap=plt.cm.gray_r, interpolation=\"nearest\")\n",
        "    ax.set_title(\"Training: %i\" %label)"
      ],
      "metadata": {
        "colab": {
          "base_uri": "https://localhost:8080/",
          "height": 168
        },
        "id": "0JH7XqofrcW8",
        "outputId": "180887f8-5d7e-4cff-d8d9-ea5943f7dca8"
      },
      "execution_count": 6,
      "outputs": [
        {
          "output_type": "display_data",
          "data": {
            "text/plain": [
              "<Figure size 720x216 with 4 Axes>"
            ],
            "image/png": "[encoded data removed]"
          },
          "metadata": {
            "needs_background": "light"
          }
        }
      ]
    },
    {
      "cell_type": "markdown",
      "source": [
        "**Data Preprocessing**"
      ],
      "metadata": {
        "id": "A-jpbaWCsgLF"
      }
    },
    {
      "cell_type": "code",
      "source": [
        "df.images.shape"
      ],
      "metadata": {
        "colab": {
          "base_uri": "https://localhost:8080/"
        },
        "id": "bNpoY77Dskub",
        "outputId": "3df6f7c1-a054-400b-f30b-f220e7097a84"
      },
      "execution_count": 7,
      "outputs": [
        {
          "output_type": "execute_result",
          "data": {
            "text/plain": [
              "(1797, 8, 8)"
            ]
          },
          "metadata": {},
          "execution_count": 7
        }
      ]
    },
    {
      "cell_type": "code",
      "source": [
        "df.images[0]\n"
      ],
      "metadata": {
        "colab": {
          "base_uri": "https://localhost:8080/"
        },
        "id": "fkAuWkp4swhD",
        "outputId": "6e944c60-fd3c-4176-e2d8-e3fa68d29726"
      },
      "execution_count": 8,
      "outputs": [
        {
          "output_type": "execute_result",
          "data": {
            "text/plain": [
              "array([[ 0.,  0.,  5., 13.,  9.,  1.,  0.,  0.],\n",
              "       [ 0.,  0., 13., 15., 10., 15.,  5.,  0.],\n",
              "       [ 0.,  3., 15.,  2.,  0., 11.,  8.,  0.],\n",
              "       [ 0.,  4., 12.,  0.,  0.,  8.,  8.,  0.],\n",
              "       [ 0.,  5.,  8.,  0.,  0.,  9.,  8.,  0.],\n",
              "       [ 0.,  4., 11.,  0.,  1., 12.,  7.,  0.],\n",
              "       [ 0.,  2., 14.,  5., 10., 12.,  0.,  0.],\n",
              "       [ 0.,  0.,  6., 13., 10.,  0.,  0.,  0.]])"
            ]
          },
          "metadata": {},
          "execution_count": 8
        }
      ]
    },
    {
      "cell_type": "code",
      "source": [
        "df.images[0].shape"
      ],
      "metadata": {
        "colab": {
          "base_uri": "https://localhost:8080/"
        },
        "id": "r3ZuC-w9swoM",
        "outputId": "e3422fb1-b952-4962-f880-6f158cca2363"
      },
      "execution_count": 9,
      "outputs": [
        {
          "output_type": "execute_result",
          "data": {
            "text/plain": [
              "(8, 8)"
            ]
          },
          "metadata": {},
          "execution_count": 9
        }
      ]
    },
    {
      "cell_type": "code",
      "source": [
        "n_samples = len(df.images)\n",
        "data = df.images.reshape((n_samples, -1))"
      ],
      "metadata": {
        "id": "DFToUrJDswuT"
      },
      "execution_count": 10,
      "outputs": []
    },
    {
      "cell_type": "code",
      "source": [
        "data[0]"
      ],
      "metadata": {
        "colab": {
          "base_uri": "https://localhost:8080/"
        },
        "id": "2UJY4o-Zsw4C",
        "outputId": "f7ff5dfa-781e-4d05-ab9e-ab04e3fa4c21"
      },
      "execution_count": 11,
      "outputs": [
        {
          "output_type": "execute_result",
          "data": {
            "text/plain": [
              "array([ 0.,  0.,  5., 13.,  9.,  1.,  0.,  0.,  0.,  0., 13., 15., 10.,\n",
              "       15.,  5.,  0.,  0.,  3., 15.,  2.,  0., 11.,  8.,  0.,  0.,  4.,\n",
              "       12.,  0.,  0.,  8.,  8.,  0.,  0.,  5.,  8.,  0.,  0.,  9.,  8.,\n",
              "        0.,  0.,  4., 11.,  0.,  1., 12.,  7.,  0.,  0.,  2., 14.,  5.,\n",
              "       10., 12.,  0.,  0.,  0.,  0.,  6., 13., 10.,  0.,  0.,  0.])"
            ]
          },
          "metadata": {},
          "execution_count": 11
        }
      ]
    },
    {
      "cell_type": "code",
      "source": [
        "data[0].shape"
      ],
      "metadata": {
        "colab": {
          "base_uri": "https://localhost:8080/"
        },
        "id": "kL_ZbXgktVeB",
        "outputId": "4135aa20-9ae1-4232-de90-6bdd341c1a08"
      },
      "execution_count": 12,
      "outputs": [
        {
          "output_type": "execute_result",
          "data": {
            "text/plain": [
              "(64,)"
            ]
          },
          "metadata": {},
          "execution_count": 12
        }
      ]
    },
    {
      "cell_type": "code",
      "source": [
        "data.shape"
      ],
      "metadata": {
        "colab": {
          "base_uri": "https://localhost:8080/"
        },
        "id": "dYs9lKVPtaN0",
        "outputId": "b1037900-34b5-4224-d21d-612472a0996e"
      },
      "execution_count": 13,
      "outputs": [
        {
          "output_type": "execute_result",
          "data": {
            "text/plain": [
              "(1797, 64)"
            ]
          },
          "metadata": {},
          "execution_count": 13
        }
      ]
    },
    {
      "cell_type": "markdown",
      "source": [
        "**Scalling Data**"
      ],
      "metadata": {
        "id": "xMRPYgfMtgof"
      }
    },
    {
      "cell_type": "code",
      "source": [
        "data.min()"
      ],
      "metadata": {
        "colab": {
          "base_uri": "https://localhost:8080/"
        },
        "id": "nou5zOKZtjL0",
        "outputId": "47b38cb1-3bd0-4464-f609-4df6d34a8272"
      },
      "execution_count": 14,
      "outputs": [
        {
          "output_type": "execute_result",
          "data": {
            "text/plain": [
              "0.0"
            ]
          },
          "metadata": {},
          "execution_count": 14
        }
      ]
    },
    {
      "cell_type": "code",
      "source": [
        "data.max()"
      ],
      "metadata": {
        "colab": {
          "base_uri": "https://localhost:8080/"
        },
        "id": "vqiPv97rtopY",
        "outputId": "ab87cdca-e2d0-4cb1-e49b-4659d0f3d9a5"
      },
      "execution_count": 15,
      "outputs": [
        {
          "output_type": "execute_result",
          "data": {
            "text/plain": [
              "16.0"
            ]
          },
          "metadata": {},
          "execution_count": 15
        }
      ]
    },
    {
      "cell_type": "code",
      "source": [
        "data = data/16"
      ],
      "metadata": {
        "id": "tJ4cxx8ptwOA"
      },
      "execution_count": 16,
      "outputs": []
    },
    {
      "cell_type": "code",
      "source": [
        "data.min()"
      ],
      "metadata": {
        "colab": {
          "base_uri": "https://localhost:8080/"
        },
        "id": "HwtjPzRlt1f4",
        "outputId": "39928afc-3978-44ab-c3b4-6b77d2af64b7"
      },
      "execution_count": 17,
      "outputs": [
        {
          "output_type": "execute_result",
          "data": {
            "text/plain": [
              "0.0"
            ]
          },
          "metadata": {},
          "execution_count": 17
        }
      ]
    },
    {
      "cell_type": "code",
      "source": [
        "data.max()"
      ],
      "metadata": {
        "colab": {
          "base_uri": "https://localhost:8080/"
        },
        "id": "j6RYQgBCt1nX",
        "outputId": "a4b7424b-9ba8-4229-fdfe-909c2908debf"
      },
      "execution_count": 18,
      "outputs": [
        {
          "output_type": "execute_result",
          "data": {
            "text/plain": [
              "1.0"
            ]
          },
          "metadata": {},
          "execution_count": 18
        }
      ]
    },
    {
      "cell_type": "code",
      "source": [
        "data[0]"
      ],
      "metadata": {
        "colab": {
          "base_uri": "https://localhost:8080/"
        },
        "id": "j6UGFmV-uEwd",
        "outputId": "454ed095-2a16-4c40-beb7-e18c1a68107c"
      },
      "execution_count": 19,
      "outputs": [
        {
          "output_type": "execute_result",
          "data": {
            "text/plain": [
              "array([0.    , 0.    , 0.3125, 0.8125, 0.5625, 0.0625, 0.    , 0.    ,\n",
              "       0.    , 0.    , 0.8125, 0.9375, 0.625 , 0.9375, 0.3125, 0.    ,\n",
              "       0.    , 0.1875, 0.9375, 0.125 , 0.    , 0.6875, 0.5   , 0.    ,\n",
              "       0.    , 0.25  , 0.75  , 0.    , 0.    , 0.5   , 0.5   , 0.    ,\n",
              "       0.    , 0.3125, 0.5   , 0.    , 0.    , 0.5625, 0.5   , 0.    ,\n",
              "       0.    , 0.25  , 0.6875, 0.    , 0.0625, 0.75  , 0.4375, 0.    ,\n",
              "       0.    , 0.125 , 0.875 , 0.3125, 0.625 , 0.75  , 0.    , 0.    ,\n",
              "       0.    , 0.    , 0.375 , 0.8125, 0.625 , 0.    , 0.    , 0.    ])"
            ]
          },
          "metadata": {},
          "execution_count": 19
        }
      ]
    },
    {
      "cell_type": "markdown",
      "source": [
        "**Train Test Split Data**"
      ],
      "metadata": {
        "id": "haCCy4yTt7HK"
      }
    },
    {
      "cell_type": "code",
      "source": [
        "from sklearn.model_selection import train_test_split"
      ],
      "metadata": {
        "id": "1FNMQr94t-P8"
      },
      "execution_count": 20,
      "outputs": []
    },
    {
      "cell_type": "code",
      "source": [
        "x_train, x_test, y_train, y_test = train_test_split(data, df.target, test_size=0.3)"
      ],
      "metadata": {
        "id": "Podn2EWlucjf"
      },
      "execution_count": 21,
      "outputs": []
    },
    {
      "cell_type": "code",
      "source": [
        "x_train.shape, x_test.shape, y_train.shape, y_test.shape"
      ],
      "metadata": {
        "colab": {
          "base_uri": "https://localhost:8080/"
        },
        "id": "vGphBbRsucqQ",
        "outputId": "658d2bf2-9d3a-4ffa-84d6-fc4375c7220e"
      },
      "execution_count": 22,
      "outputs": [
        {
          "output_type": "execute_result",
          "data": {
            "text/plain": [
              "((1257, 64), (540, 64), (1257,), (540,))"
            ]
          },
          "metadata": {},
          "execution_count": 22
        }
      ]
    },
    {
      "cell_type": "markdown",
      "source": [
        "**Random Forest Model**"
      ],
      "metadata": {
        "id": "lAc8jNNVu_Bh"
      }
    },
    {
      "cell_type": "code",
      "source": [
        "from sklearn.ensemble import RandomForestClassifier"
      ],
      "metadata": {
        "id": "cX7g0rM2vC6n"
      },
      "execution_count": 23,
      "outputs": []
    },
    {
      "cell_type": "code",
      "source": [
        "rf = RandomForestClassifier()"
      ],
      "metadata": {
        "id": "J3xV4WL7vFGb"
      },
      "execution_count": 24,
      "outputs": []
    },
    {
      "cell_type": "code",
      "source": [
        "rf.fit(x_train, y_train)"
      ],
      "metadata": {
        "colab": {
          "base_uri": "https://localhost:8080/"
        },
        "id": "Xtejs-gEvFJe",
        "outputId": "9258c001-c31b-45a5-80b1-63341189f9b0"
      },
      "execution_count": 25,
      "outputs": [
        {
          "output_type": "execute_result",
          "data": {
            "text/plain": [
              "RandomForestClassifier()"
            ]
          },
          "metadata": {},
          "execution_count": 25
        }
      ]
    },
    {
      "cell_type": "markdown",
      "source": [
        "**Predict Test Data**"
      ],
      "metadata": {
        "id": "vNtVaZLUvYlI"
      }
    },
    {
      "cell_type": "code",
      "source": [
        "y_pred = rf.predict(x_test)"
      ],
      "metadata": {
        "id": "5EhQiW6xvciL"
      },
      "execution_count": 26,
      "outputs": []
    },
    {
      "cell_type": "code",
      "source": [
        "y_pred"
      ],
      "metadata": {
        "colab": {
          "base_uri": "https://localhost:8080/"
        },
        "id": "oyXYDissvhSx",
        "outputId": "22e3920c-29ea-44f8-bffb-7a6176e201bf"
      },
      "execution_count": 27,
      "outputs": [
        {
          "output_type": "execute_result",
          "data": {
            "text/plain": [
              "array([2, 0, 2, 7, 0, 1, 5, 1, 3, 6, 3, 2, 5, 8, 4, 9, 0, 9, 9, 6, 8, 3,\n",
              "       9, 6, 6, 3, 5, 7, 0, 7, 7, 8, 9, 0, 6, 0, 8, 5, 6, 1, 1, 2, 0, 1,\n",
              "       9, 1, 0, 0, 8, 0, 0, 2, 2, 7, 9, 2, 3, 7, 7, 5, 5, 6, 7, 7, 9, 1,\n",
              "       1, 8, 6, 0, 1, 5, 7, 5, 6, 7, 1, 8, 8, 4, 0, 4, 4, 1, 7, 8, 7, 2,\n",
              "       6, 1, 7, 3, 9, 1, 4, 0, 5, 6, 4, 7, 3, 4, 8, 2, 2, 1, 2, 9, 9, 6,\n",
              "       7, 9, 2, 7, 3, 8, 1, 2, 1, 3, 4, 1, 2, 8, 0, 0, 3, 2, 1, 3, 4, 5,\n",
              "       8, 2, 2, 8, 7, 5, 2, 3, 8, 7, 2, 7, 1, 2, 8, 5, 4, 9, 5, 4, 0, 3,\n",
              "       5, 3, 3, 6, 1, 3, 5, 1, 5, 5, 2, 4, 6, 1, 2, 5, 0, 7, 9, 4, 9, 4,\n",
              "       7, 2, 9, 8, 9, 5, 2, 4, 5, 9, 3, 1, 8, 0, 4, 1, 4, 6, 8, 3, 8, 6,\n",
              "       5, 6, 0, 7, 6, 7, 0, 4, 6, 3, 5, 3, 9, 1, 3, 3, 7, 0, 9, 6, 1, 2,\n",
              "       9, 0, 7, 7, 0, 1, 5, 3, 3, 3, 2, 6, 2, 2, 0, 3, 0, 4, 0, 9, 1, 7,\n",
              "       6, 7, 9, 1, 8, 7, 4, 7, 0, 5, 0, 0, 0, 8, 0, 1, 6, 4, 2, 1, 8, 8,\n",
              "       3, 0, 3, 1, 5, 9, 3, 1, 1, 1, 6, 0, 9, 7, 4, 3, 9, 5, 1, 0, 1, 3,\n",
              "       9, 7, 8, 2, 7, 2, 5, 7, 8, 7, 9, 5, 3, 9, 5, 5, 1, 3, 5, 8, 0, 0,\n",
              "       9, 1, 9, 0, 5, 7, 7, 6, 9, 5, 3, 4, 0, 0, 2, 4, 3, 1, 4, 8, 4, 1,\n",
              "       0, 4, 9, 2, 9, 4, 3, 3, 9, 9, 6, 5, 2, 2, 9, 5, 7, 7, 7, 4, 2, 1,\n",
              "       7, 3, 4, 6, 4, 0, 3, 5, 2, 4, 3, 8, 2, 9, 0, 0, 3, 2, 1, 3, 3, 8,\n",
              "       0, 6, 3, 6, 1, 3, 9, 3, 0, 5, 3, 6, 9, 3, 2, 1, 0, 1, 2, 8, 3, 4,\n",
              "       8, 8, 8, 4, 2, 0, 5, 7, 8, 6, 7, 9, 9, 1, 6, 8, 8, 4, 7, 6, 7, 5,\n",
              "       3, 4, 5, 7, 9, 7, 5, 0, 2, 2, 1, 1, 3, 9, 3, 2, 6, 3, 1, 8, 0, 0,\n",
              "       2, 2, 3, 4, 9, 0, 6, 1, 6, 3, 7, 7, 5, 2, 8, 4, 9, 9, 9, 3, 1, 6,\n",
              "       7, 5, 4, 2, 1, 4, 9, 1, 3, 5, 6, 1, 7, 2, 7, 5, 2, 9, 5, 5, 4, 6,\n",
              "       6, 5, 6, 4, 1, 6, 9, 8, 8, 5, 7, 7, 7, 0, 7, 1, 8, 9, 0, 3, 5, 9,\n",
              "       8, 5, 2, 2, 5, 1, 8, 9, 7, 5, 0, 1, 7, 9, 7, 5, 2, 4, 8, 6, 3, 6,\n",
              "       9, 0, 4, 7, 9, 7, 1, 0, 1, 6, 1, 8])"
            ]
          },
          "metadata": {},
          "execution_count": 27
        }
      ]
    },
    {
      "cell_type": "markdown",
      "source": [
        "**Model Accuracy**"
      ],
      "metadata": {
        "id": "rq1ORuIFvmOu"
      }
    },
    {
      "cell_type": "code",
      "source": [
        "from sklearn.metrics import confusion_matrix, classification_report"
      ],
      "metadata": {
        "id": "Dp1aDtFLvo4k"
      },
      "execution_count": 28,
      "outputs": []
    },
    {
      "cell_type": "code",
      "source": [
        "confusion_matrix(y_test, y_pred)"
      ],
      "metadata": {
        "colab": {
          "base_uri": "https://localhost:8080/"
        },
        "id": "_FI18yiKvpLn",
        "outputId": "9caddcda-0188-43bc-aedc-075b37bb78af"
      },
      "execution_count": 29,
      "outputs": [
        {
          "output_type": "execute_result",
          "data": {
            "text/plain": [
              "array([[57,  0,  0,  0,  1,  0,  0,  0,  0,  0],\n",
              "       [ 0, 59,  0,  0,  0,  0,  0,  0,  0,  0],\n",
              "       [ 0,  1, 54,  0,  0,  0,  0,  0,  0,  0],\n",
              "       [ 0,  0,  0, 59,  0,  0,  0,  2,  0,  0],\n",
              "       [ 0,  0,  0,  0, 42,  0,  0,  1,  1,  0],\n",
              "       [ 0,  0,  0,  0,  0, 53,  0,  0,  0,  0],\n",
              "       [ 0,  0,  0,  0,  0,  0, 45,  0,  0,  0],\n",
              "       [ 0,  0,  0,  0,  1,  0,  0, 59,  0,  0],\n",
              "       [ 0,  2,  0,  0,  0,  0,  0,  0, 45,  1],\n",
              "       [ 0,  0,  0,  0,  0,  1,  0,  0,  0, 56]])"
            ]
          },
          "metadata": {},
          "execution_count": 29
        }
      ]
    },
    {
      "cell_type": "code",
      "source": [
        "print(classification_report(y_test, y_pred))"
      ],
      "metadata": {
        "colab": {
          "base_uri": "https://localhost:8080/"
        },
        "id": "svHmKXNuvpPa",
        "outputId": "d89696e1-4157-4af6-98f9-115bedf30683"
      },
      "execution_count": 30,
      "outputs": [
        {
          "output_type": "stream",
          "name": "stdout",
          "text": [
            "              precision    recall  f1-score   support\n",
            "\n",
            "           0       1.00      0.98      0.99        58\n",
            "           1       0.95      1.00      0.98        59\n",
            "           2       1.00      0.98      0.99        55\n",
            "           3       1.00      0.97      0.98        61\n",
            "           4       0.95      0.95      0.95        44\n",
            "           5       0.98      1.00      0.99        53\n",
            "           6       1.00      1.00      1.00        45\n",
            "           7       0.95      0.98      0.97        60\n",
            "           8       0.98      0.94      0.96        48\n",
            "           9       0.98      0.98      0.98        57\n",
            "\n",
            "    accuracy                           0.98       540\n",
            "   macro avg       0.98      0.98      0.98       540\n",
            "weighted avg       0.98      0.98      0.98       540\n",
            "\n"
          ]
        }
      ]
    }
  ]
}